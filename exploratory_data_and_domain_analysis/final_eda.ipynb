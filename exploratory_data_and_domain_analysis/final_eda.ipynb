{
 "cells": [
  {
   "cell_type": "markdown",
   "id": "5a568668",
   "metadata": {},
   "source": [
    "# Exploratory Data and Domain Analysis"
   ]
  },
  {
   "cell_type": "markdown",
   "id": "72b6c9ab",
   "metadata": {},
   "source": [
    "This notebook dedicated for exploring the domain and data available for better understanding of the problem, providing suitable solutions with the right methods.\n",
    "\n",
    "Multipule datasets has been collected from deferent sources to be analyzed. the data consist of 5 main topics: \n",
    "- Accidents Severity.\n",
    "- Traffic Accedints.\n",
    "- RTA Global.\n",
    "- Accidents Statisitics."
   ]
  },
  {
   "cell_type": "markdown",
   "id": "a8c3bc63",
   "metadata": {},
   "source": [
    "### Accidents Severity"
   ]
  },
  {
   "cell_type": "markdown",
   "id": "191f57c7",
   "metadata": {},
   "source": []
  }
 ],
 "metadata": {
  "language_info": {
   "name": "python"
  }
 },
 "nbformat": 4,
 "nbformat_minor": 5
}
