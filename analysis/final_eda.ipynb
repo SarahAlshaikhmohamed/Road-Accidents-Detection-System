{
 "cells": [
  {
   "cell_type": "markdown",
   "id": "5a568668",
   "metadata": {},
   "source": [
    "# Exploratory Data and Domain Analysis"
   ]
  },
  {
   "cell_type": "markdown",
   "id": "72b6c9ab",
   "metadata": {},
   "source": [
    "This notebook dedicated for exploring the domain and data available for better understanding of the problem, providing suitable solutions with the right methods.\n",
    "\n",
    "Multipule datasets has been collected from deferent sources to be analyzed. the data consist of 4 main topics: \n",
    "- Accidents Severity.\n",
    "- Traffic Accedints.\n",
    "- RTA Global.\n",
    "- Accidents Statisitics."
   ]
  },
  {
   "cell_type": "code",
   "execution_count": null,
   "id": "2a21e33c",
   "metadata": {
    "vscode": {
     "languageId": "plaintext"
    }
   },
   "outputs": [],
   "source": [
    "#imports\n",
    "import pandas as pd\n",
    "import numpy as np\n",
    "import matplotlib.pyplot as plt\n",
    "import seaborn as sns\n",
    "import plotly.express as px\n",
    "import plotly.graph_objects as go\n",
    "from plotly.subplots import make_subplots\n",
    "from datetime import datetime"
   ]
  },
  {
   "cell_type": "markdown",
   "id": "62c660fa",
   "metadata": {},
   "source": [
    "## 1. Traffic Mortality and Policy Interventions"
   ]
  },
  {
   "cell_type": "markdown",
   "id": "a8c3bc63",
   "metadata": {},
   "source": [
    "### EP Traffic Mortality and Policy Interventions Dataset\n",
    "\n",
    "Source: Mendeley Data\n",
    "\n",
    "Description:\n",
    "\n",
    "A comprehensive dataset examining the relationship between traffic mortality rates and policy interventions (such as road safety regulations, awareness programs, or infrastructure improvements) in the Eastern Province.\n",
    "\n",
    "Key Features: Mortality counts, intervention types, time period, geographic indicators, and possibly socio-economic factors.\n",
    "\n",
    "Use: To explore the impact of government initiatives on traffic-related deaths."
   ]
  },
  {
   "cell_type": "code",
   "execution_count": null,
   "id": "910a7713",
   "metadata": {
    "vscode": {
     "languageId": "plaintext"
    }
   },
   "outputs": [],
   "source": [
    "# xslx file\n",
    "df = pd.read_excel(\"/content/EP-traffic-mortality-and-policy-interventions-dataset.xlsx\")\n",
    "df.head()"
   ]
  },
  {
   "cell_type": "code",
   "execution_count": null,
   "id": "536d462b",
   "metadata": {
    "vscode": {
     "languageId": "plaintext"
    }
   },
   "outputs": [],
   "source": [
    "# Load Excel file\n",
    "excel_file_path = \"/content/EP-traffic-mortality-and-policy-interventions-dataset.xlsx\"\n",
    "\n",
    "# Check the sheets\n",
    "datafile = pd.ExcelFile(excel_file_path)\n",
    "print(datafile.sheet_names)"
   ]
  },
  {
   "cell_type": "code",
   "execution_count": null,
   "id": "da3d0505",
   "metadata": {
    "vscode": {
     "languageId": "plaintext"
    }
   },
   "outputs": [],
   "source": [
    "# Load the second sheet Raw Accident Mortality Data\n",
    "df = pd.read_excel(excel_file_path, sheet_name=datafile.sheet_names[1])\n",
    "df.head()"
   ]
  },
  {
   "cell_type": "code",
   "execution_count": null,
   "id": "ff638377",
   "metadata": {
    "vscode": {
     "languageId": "plaintext"
    }
   },
   "outputs": [],
   "source": [
    "# drop the first column and the last five columns\n",
    "df = df.drop(df.columns[0], axis=1)\n",
    "df = df.iloc[:, :-5]\n",
    "\n",
    "# we drop the columns 4 and 5\n",
    "df = df.drop(df.columns[[3, 4]], axis=1)\n",
    "\n",
    "# And drop the first row\n",
    "df = df.drop(df.index[0])\n",
    "df.head()"
   ]
  },
  {
   "cell_type": "code",
   "execution_count": null,
   "id": "8971b8b0",
   "metadata": {
    "vscode": {
     "languageId": "plaintext"
    }
   },
   "outputs": [],
   "source": [
    "# we make the first row , the columns name\n",
    "df.columns = df.iloc[0]\n",
    "df = df.drop(df.index[0])\n",
    "df.head()"
   ]
  },
  {
   "cell_type": "code",
   "execution_count": null,
   "id": "d71cd091",
   "metadata": {
    "vscode": {
     "languageId": "plaintext"
    }
   },
   "outputs": [],
   "source": [
    "# remove the second row\n",
    "df = df.drop(df.index[0])\n",
    "\n",
    "# rename the NaN column>> \"Age\"\n",
    "df = df.rename(columns={np.nan: 'Age'})\n",
    "\n",
    "df.head()"
   ]
  },
  {
   "cell_type": "code",
   "execution_count": null,
   "id": "b2080caa",
   "metadata": {
    "vscode": {
     "languageId": "plaintext"
    }
   },
   "outputs": [],
   "source": [
    "# the last row need to be removed\n",
    "df = df.drop(df.index[-1])\n",
    "df.tail()"
   ]
  },
  {
   "cell_type": "markdown",
   "id": "83a7b570",
   "metadata": {},
   "source": [
    "##### Data Exploration"
   ]
  },
  {
   "cell_type": "code",
   "execution_count": null,
   "id": "db1930e7",
   "metadata": {
    "vscode": {
     "languageId": "plaintext"
    }
   },
   "outputs": [],
   "source": [
    "# Shape and columns\n",
    "print(\"Rows:\", df.shape[0])\n",
    "print(\"Columns:\", df.shape[1])\n",
    "print(\"Columns:\", df.columns.tolist())"
   ]
  },
  {
   "cell_type": "code",
   "execution_count": null,
   "id": "80867764",
   "metadata": {
    "vscode": {
     "languageId": "plaintext"
    }
   },
   "outputs": [],
   "source": [
    "# Check missing values\n",
    "df.isna().sum()"
   ]
  },
  {
   "cell_type": "code",
   "execution_count": null,
   "id": "c038010c",
   "metadata": {
    "vscode": {
     "languageId": "plaintext"
    }
   },
   "outputs": [],
   "source": [
    "# Basic info and data types\n",
    "df.info()"
   ]
  },
  {
   "cell_type": "code",
   "execution_count": null,
   "id": "0d8f5fff",
   "metadata": {
    "vscode": {
     "languageId": "plaintext"
    }
   },
   "outputs": [],
   "source": [
    "# Summary statistics\n",
    "df.describe(include='all')"
   ]
  },
  {
   "cell_type": "code",
   "execution_count": null,
   "id": "06f5508f",
   "metadata": {
    "vscode": {
     "languageId": "plaintext"
    }
   },
   "outputs": [],
   "source": [
    "# duplicates\n",
    "df.duplicated().sum()"
   ]
  },
  {
   "cell_type": "code",
   "execution_count": null,
   "id": "db65fc6b",
   "metadata": {
    "vscode": {
     "languageId": "plaintext"
    }
   },
   "outputs": [],
   "source": [
    "# check the duplicate rows that are true\n",
    "df[df.duplicated()]"
   ]
  },
  {
   "cell_type": "markdown",
   "id": "48458285",
   "metadata": {},
   "source": [
    "##### Data Cleaning"
   ]
  },
  {
   "cell_type": "code",
   "execution_count": null,
   "id": "2197cced",
   "metadata": {
    "vscode": {
     "languageId": "plaintext"
    }
   },
   "outputs": [],
   "source": [
    "# Rename columns\n",
    "df.columns = df.columns.str.strip().str.replace(' ', '_').str.lower()\n",
    "df.columns"
   ]
  },
  {
   "cell_type": "code",
   "execution_count": null,
   "id": "d992ef14",
   "metadata": {
    "vscode": {
     "languageId": "plaintext"
    }
   },
   "outputs": [],
   "source": [
    "# rename death_date_(gregorian) > death_date_gregorian & death_date_(hijri) > death_date_hijri\n",
    "df = df.rename(columns={'death_date_(gregorian)': 'death_date_gregorian', 'death_date_(hijri)': 'death_date_hijri'})\n",
    "df.columns"
   ]
  },
  {
   "cell_type": "code",
   "execution_count": null,
   "id": "b80a19e3",
   "metadata": {
    "vscode": {
     "languageId": "plaintext"
    }
   },
   "outputs": [],
   "source": [
    "# Drop duplicates\n",
    "df = df.drop_duplicates()\n",
    "df.duplicated().sum()"
   ]
  },
  {
   "cell_type": "code",
   "execution_count": null,
   "id": "e293f27a",
   "metadata": {
    "vscode": {
     "languageId": "plaintext"
    }
   },
   "outputs": [],
   "source": [
    "df.shape"
   ]
  },
  {
   "cell_type": "markdown",
   "id": "b614ebe0",
   "metadata": {},
   "source": [
    "12 row duplicated!\n",
    "\n",
    "from 7351 >> 7339"
   ]
  },
  {
   "cell_type": "code",
   "execution_count": null,
   "id": "cd90c55c",
   "metadata": {
    "vscode": {
     "languageId": "plaintext"
    }
   },
   "outputs": [],
   "source": [
    "# handle mising values in hosiptal_code with \"Unknown\"\n",
    "df['hospital_code'] = df['hospital_code'].fillna('Unknown')\n",
    "df.isna().sum()"
   ]
  },
  {
   "cell_type": "code",
   "execution_count": null,
   "id": "ecf784e8",
   "metadata": {
    "vscode": {
     "languageId": "plaintext"
    }
   },
   "outputs": [],
   "source": [
    "# Convert dates to datetime\n",
    "df['death_date_gregorian'] = pd.to_datetime(df['death_date_gregorian'], errors='coerce', dayfirst = True)\n",
    "\n",
    "# Extract data\n",
    "df['greg_year'] = df['death_date_gregorian'].dt.year\n",
    "df['greg_month'] = df['death_date_gregorian'].dt.month\n",
    "df['greg_day'] = df['death_date_gregorian'].dt.day"
   ]
  },
  {
   "cell_type": "code",
   "execution_count": null,
   "id": "3180bc79",
   "metadata": {
    "vscode": {
     "languageId": "plaintext"
    }
   },
   "outputs": [],
   "source": [
    "# Extract data from hijri dates\n",
    "df[['hijri_day', 'hijri_month', 'hijri_year']] = df['death_date_hijri'].str.split('/', expand=True)"
   ]
  },
  {
   "cell_type": "code",
   "execution_count": null,
   "id": "9c92f523",
   "metadata": {
    "vscode": {
     "languageId": "plaintext"
    }
   },
   "outputs": [],
   "source": [
    "# change dtypes\n",
    "\n",
    "num_cols = ['age', 'population', 'hospital_code', 'hijri_day', 'hijri_month', 'hijri_year', 'greg_year', 'greg_month', 'greg_day']\n",
    "\n",
    "for col in num_cols:\n",
    "    df[col] = pd.to_numeric(df[col], errors='coerce')\n",
    "\n",
    "cat_cols = ['place_of_death', 'gender', 'nationality', 'city', 'governorate']\n",
    "\n",
    "for col in cat_cols:\n",
    "    df[col] = df[col].astype('category')\n",
    "\n",
    "df.info()"
   ]
  },
  {
   "cell_type": "code",
   "execution_count": null,
   "id": "71686737",
   "metadata": {
    "vscode": {
     "languageId": "plaintext"
    }
   },
   "outputs": [],
   "source": [
    "# Hijri month names\n",
    "hijri_months = {\n",
    "    1: 'Muharram', 2: 'Safar', 3: 'Rabi al-Awwal', 4: 'Rabi al-Thani',\n",
    "    5: 'Jumada al-Awwal', 6: 'Jumada al-Thani', 7: 'Rajab', 8: 'Shaaban',\n",
    "    9: 'Ramadan', 10: 'Shawwal', 11: 'Dhul-Qadah', 12: 'Dhul-Hijjah'\n",
    "}\n",
    "df['hijri_month_name'] = df['hijri_month'].map(hijri_months)\n",
    "\n",
    "# Gregorian month names\n",
    "greg_months = {\n",
    "    1:'Jan', 2:'Feb', 3:'Mar', 4:'Apr', 5:'May', 6:'Jun',\n",
    "    7:'Jul', 8:'Aug', 9:'Sep', 10:'Oct', 11:'Nov', 12:'Dec'\n",
    "}\n",
    "df['greg_month_name'] = df['greg_month'].map(greg_months)"
   ]
  },
  {
   "cell_type": "code",
   "execution_count": null,
   "id": "297fab72",
   "metadata": {
    "vscode": {
     "languageId": "plaintext"
    }
   },
   "outputs": [],
   "source": [
    "# adding age_group column\n",
    "age_groups = {\n",
    "    '0-14': (0, 14), '15-24': (15, 24), '25-34': (25, 34), '35-44': (35, 44),\n",
    "    '45-54': (45, 54), '55-64': (55, 64), '65-74': (65, 74), '75-84': (75, 84),\n",
    "    '85+': (85, float('inf')) # 85 to infinity\n",
    "}\n",
    "df['age_group'] = df['age'].apply(lambda x: next((k for k, v in age_groups.items() if v[0] <= x <= v[1]), None))"
   ]
  },
  {
   "cell_type": "code",
   "execution_count": null,
   "id": "a3be9b77",
   "metadata": {
    "vscode": {
     "languageId": "plaintext"
    }
   },
   "outputs": [],
   "source": [
    "# save the cleaned data\n",
    "df.to_csv('Traffic_Accident_Mortality_Primary_cleaned.csv', index=False)"
   ]
  },
  {
   "cell_type": "markdown",
   "id": "39bd160c",
   "metadata": {},
   "source": [
    "##### EDA"
   ]
  },
  {
   "cell_type": "code",
   "execution_count": null,
   "id": "e6fcd630",
   "metadata": {
    "vscode": {
     "languageId": "plaintext"
    }
   },
   "outputs": [],
   "source": []
  },
  {
   "cell_type": "markdown",
   "id": "45fe7086",
   "metadata": {},
   "source": [
    "## 2. General Road Traffic Accident Patterns"
   ]
  },
  {
   "cell_type": "markdown",
   "id": "bb957338",
   "metadata": {},
   "source": [
    "### Road Traffic Accidents\n",
    "\n",
    "Source: Kaggle\n",
    "\n",
    "Description:\n",
    "\n",
    "A global or multi-regional dataset containing records of individual traffic accidents. It includes features like accident type, severity, weather, road surface, time, and vehicle type.\n",
    "Key Features: Accident date/time, location, cause, vehicle type, casualties.\n",
    "\n",
    "Use: To perform general exploratory and comparative analysis of accident patterns and causes."
   ]
  },
  {
   "cell_type": "markdown",
   "id": "8052d8e7",
   "metadata": {},
   "source": [
    "## 3. Historical Traffic Accident Statistics"
   ]
  },
  {
   "cell_type": "markdown",
   "id": "f8cb67b9",
   "metadata": {},
   "source": [
    "### Traffic Accident Statistics (1437–1439 H)\n",
    "\n",
    "Source: National Saudi Open Data Portal\n",
    "\n",
    "Description:\n",
    "\n",
    "Merged official records from three Hijri years (1437–1439 H), offering an authentic historical overview of traffic accident statistics across Saudi Arabia.\n",
    "\n",
    "Key Features: Yearly total accidents, injuries, deaths, accident causes, and possibly province-level breakdowns.\n",
    "\n",
    "Use: To analyze temporal trends and changes in accident frequency and severity over time."
   ]
  },
  {
   "cell_type": "markdown",
   "id": "03bb8ffd",
   "metadata": {},
   "source": [
    "## 4. Injuries and Deaths from Road Traffic Accidents"
   ]
  },
  {
   "cell_type": "markdown",
   "id": "8bcf03ae",
   "metadata": {},
   "source": [
    "### Injuries and Deaths from Road Traffic Accidents (Last Ten Years)\n",
    "\n",
    "Source: National Saudi Open Data Portal\n",
    "\n",
    "Description:\n",
    "\n",
    "A longitudinal dataset tracking injuries and fatalities from road traffic accidents over a decade, likely aggregated annually at the national or regional level.\n",
    "\n",
    "Key Features: Year, total injuries, deaths, ratios, possible demographic splits.\n",
    "\n",
    "Use: To study long-term national trends and compare them with policy periods or other datasets."
   ]
  },
  {
   "cell_type": "markdown",
   "id": "4a2d444b",
   "metadata": {},
   "source": []
  }
 ],
 "metadata": {
  "language_info": {
   "name": "python"
  }
 },
 "nbformat": 4,
 "nbformat_minor": 5
}
