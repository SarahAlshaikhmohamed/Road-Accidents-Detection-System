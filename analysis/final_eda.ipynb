{
 "cells": [
  {
   "cell_type": "markdown",
   "id": "5a568668",
   "metadata": {},
   "source": [
    "# Exploratory Data and Domain Analysis"
   ]
  },
  {
   "cell_type": "markdown",
   "id": "72b6c9ab",
   "metadata": {},
   "source": [
    "This notebook dedicated for exploring the domain and data available for better understanding of the problem, providing suitable solutions with the right methods.\n",
    "\n",
    "Multipule datasets has been collected from deferent sources to be analyzed. the data consist of 4 main topics: \n",
    "- Accidents Severity.\n",
    "- Traffic Accedints.\n",
    "- RTA Global.\n",
    "- Accidents Statisitics."
   ]
  },
  {
   "cell_type": "markdown",
   "id": "62c660fa",
   "metadata": {},
   "source": [
    "### 1. Traffic Mortality and Policy Interventions"
   ]
  },
  {
   "cell_type": "markdown",
   "id": "a8c3bc63",
   "metadata": {},
   "source": [
    "##### EP Traffic Mortality and Policy Interventions Dataset\n",
    "\n",
    "Source: Mendeley Data\n",
    "\n",
    "Description:\n",
    "\n",
    "A comprehensive dataset examining the relationship between traffic mortality rates and policy interventions (such as road safety regulations, awareness programs, or infrastructure improvements) in the Eastern Province.\n",
    "\n",
    "Key Features: Mortality counts, intervention types, time period, geographic indicators, and possibly socio-economic factors.\n",
    "Use: To explore the impact of government initiatives on traffic-related deaths."
   ]
  },
  {
   "cell_type": "markdown",
   "id": "45fe7086",
   "metadata": {},
   "source": [
    "### 2. General Road Traffic Accident Patterns"
   ]
  },
  {
   "cell_type": "markdown",
   "id": "bb957338",
   "metadata": {},
   "source": [
    "##### Road Traffic Accidents\n",
    "\n",
    "Source: Kaggle\n",
    "\n",
    "Description:\n",
    "\n",
    "A global or multi-regional dataset containing records of individual traffic accidents. It includes features like accident type, severity, weather, road surface, time, and vehicle type.\n",
    "Key Features: Accident date/time, location, cause, vehicle type, casualties.\n",
    "\n",
    "Use: To perform general exploratory and comparative analysis of accident patterns and causes."
   ]
  },
  {
   "cell_type": "markdown",
   "id": "8052d8e7",
   "metadata": {},
   "source": [
    "### 3. Historical Traffic Accident Statistics"
   ]
  },
  {
   "cell_type": "markdown",
   "id": "f8cb67b9",
   "metadata": {},
   "source": [
    "##### Traffic Accident Statistics (1437–1439 H)\n",
    "\n",
    "Source: National Saudi Open Data Portal\n",
    "\n",
    "Description:\n",
    "\n",
    "Merged official records from three Hijri years (1437–1439 H), offering an authentic historical overview of traffic accident statistics across Saudi Arabia.\n",
    "\n",
    "Key Features: Yearly total accidents, injuries, deaths, accident causes, and possibly province-level breakdowns.\n",
    "\n",
    "Use: To analyze temporal trends and changes in accident frequency and severity over time."
   ]
  },
  {
   "cell_type": "markdown",
   "id": "03bb8ffd",
   "metadata": {},
   "source": [
    "### 4. Injuries and Deaths from Road Traffic Accidents"
   ]
  },
  {
   "cell_type": "markdown",
   "id": "8bcf03ae",
   "metadata": {},
   "source": [
    "##### Injuries and Deaths from Road Traffic Accidents (Last Ten Years)\n",
    "\n",
    "Source: National Saudi Open Data Portal\n",
    "\n",
    "Description:\n",
    "\n",
    "A longitudinal dataset tracking injuries and fatalities from road traffic accidents over a decade, likely aggregated annually at the national or regional level.\n",
    "\n",
    "Key Features: Year, total injuries, deaths, ratios, possible demographic splits.\n",
    "\n",
    "Use: To study long-term national trends and compare them with policy periods or other datasets."
   ]
  }
 ],
 "metadata": {
  "language_info": {
   "name": "python"
  }
 },
 "nbformat": 4,
 "nbformat_minor": 5
}
